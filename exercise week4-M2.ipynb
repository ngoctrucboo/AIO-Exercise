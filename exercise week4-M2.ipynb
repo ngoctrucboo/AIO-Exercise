{
 "cells": [
  {
   "cell_type": "code",
   "execution_count": 3,
   "metadata": {},
   "outputs": [
    {
     "name": "stdout",
     "output_type": "stream",
     "text": [
      " Mean :  1.8\n"
     ]
    }
   ],
   "source": [
    "### Question 1\n",
    "import numpy as np\n",
    "\n",
    "def compute_mean(X):\n",
    "    return np.average(X)\n",
    "X = [2 , 0 , 2 , 2 , 7, 4 , -2 , 5 , -1 , -1]\n",
    "print(\" Mean : \", compute_mean(X))"
   ]
  },
  {
   "cell_type": "code",
   "execution_count": 8,
   "metadata": {},
   "outputs": [
    {
     "name": "stdout",
     "output_type": "stream",
     "text": [
      "[ 1  4  4  5  9 13]\n",
      "Median: 4.5\n"
     ]
    }
   ],
   "source": [
    "import numpy as np\n",
    "\n",
    "def compute_median(X):\n",
    "    size = len(X)\n",
    "    X = np.sort(X)\n",
    "    print(X)\n",
    "    if size % 2 == 0:\n",
    "        return (X[size // 2 - 1] + X[size // 2]) / 2\n",
    "    else:\n",
    "        return X[size // 2]\n",
    "\n",
    "X = [1, 5, 4, 4, 9, 13]\n",
    "print(\"Median:\", compute_median(X))\n"
   ]
  }
 ],
 "metadata": {
  "kernelspec": {
   "display_name": "Python 3",
   "language": "python",
   "name": "python3"
  },
  "language_info": {
   "codemirror_mode": {
    "name": "ipython",
    "version": 3
   },
   "file_extension": ".py",
   "mimetype": "text/x-python",
   "name": "python",
   "nbconvert_exporter": "python",
   "pygments_lexer": "ipython3",
   "version": "3.11.1"
  }
 },
 "nbformat": 4,
 "nbformat_minor": 2
}
