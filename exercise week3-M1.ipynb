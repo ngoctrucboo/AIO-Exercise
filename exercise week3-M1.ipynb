{
 "cells": [
  {
   "cell_type": "code",
   "execution_count": 4,
   "metadata": {},
   "outputs": [
    {
     "name": "stdout",
     "output_type": "stream",
     "text": [
      "tensor([0.0900, 0.2447, 0.6652])\n"
     ]
    }
   ],
   "source": [
    "#Q1\n",
    "import torch\n",
    "import torch.nn as nn\n",
    "\n",
    "data = torch.Tensor([1,2,3])\n",
    "softmax_function = nn.Softmax(dim=0)\n",
    "output = softmax_function(data)\n",
    "print(output)"
   ]
  },
  {
   "cell_type": "code",
   "execution_count": 18,
   "metadata": {},
   "outputs": [
    {
     "name": "stdout",
     "output_type": "stream",
     "text": [
      "tensor([0.7054, 0.0351, 0.2595])\n"
     ]
    }
   ],
   "source": [
    "#Q2\n",
    "import torch\n",
    "import torch.nn as nn\n",
    "\n",
    "class MySoftmax(nn.Module):\n",
    "    def __init__(self):\n",
    "        super().__init__()\n",
    "        \n",
    "    def forward(sefl,x):\n",
    "        exp_x = torch.exp(x)\n",
    "        sum_exp_x = torch.sum(exp_x)\n",
    "        return exp_x/sum_exp_x\n",
    "\n",
    "data = torch.Tensor([5, 2, 4])\n",
    "my_softmax = MySoftmax()\n",
    "output = my_softmax(data)\n",
    "print(output)\n",
    "\n"
   ]
  },
  {
   "cell_type": "code",
   "execution_count": 19,
   "metadata": {},
   "outputs": [
    {
     "name": "stdout",
     "output_type": "stream",
     "text": [
      "tensor([0., 0., nan])\n"
     ]
    }
   ],
   "source": [
    "# Q3\n",
    "import torch\n",
    "import torch.nn as nn\n",
    "\n",
    "class MySoftmax(nn.Module):\n",
    "    def __init__(self):\n",
    "        super().__init__()\n",
    "        \n",
    "    def forward(sefl,x):\n",
    "        exp_x = torch.exp(x)\n",
    "        sum_exp_x = torch.sum(exp_x)\n",
    "        return exp_x/sum_exp_x\n",
    "\n",
    "data = torch.Tensor([1 , 2 , 300000000])\n",
    "my_softmax = MySoftmax()\n",
    "output = my_softmax(data)\n",
    "print(output)\n",
    "\n"
   ]
  },
  {
   "cell_type": "code",
   "execution_count": 20,
   "metadata": {},
   "outputs": [
    {
     "name": "stdout",
     "output_type": "stream",
     "text": [
      "tensor([0.0900, 0.2447, 0.6652])\n"
     ]
    }
   ],
   "source": [
    "# Q4:\n",
    "import torch\n",
    "import torch.nn as nn\n",
    "\n",
    "class MySoftmax_Stable(nn.Module):\n",
    "    def __init__(self):\n",
    "        super().__init__()\n",
    "        \n",
    "    def forward(sefl,x):\n",
    "        x_max = torch.max(x, dim=0, keepdims=True)\n",
    "        x_exp = torch.exp(x-x_max.values)\n",
    "        partition =  x_exp.sum(0, keepdims = True)\n",
    "        return x_exp/partition\n",
    "\n",
    "data = torch.Tensor([1,2,3])\n",
    "softmax_stable = MySoftmax_Stable()\n",
    "output = softmax_stable(data)\n",
    "print(output)\n",
    "\n"
   ]
  },
  {
   "cell_type": "code",
   "execution_count": 28,
   "metadata": {},
   "outputs": [
    {
     "name": "stdout",
     "output_type": "stream",
     "text": [
      "studentZ2023\n",
      "2011\n",
      "6\n"
     ]
    }
   ],
   "source": [
    "# Q5:\n",
    "from abc import ABC , abstractmethod\n",
    "class Person(ABC):\n",
    "    def __init__ (self, name:str, yob:int):\n",
    "        self.name = name\n",
    "        self.yob = yob\n",
    "    def get_yob(self):\n",
    "        return self._yob\n",
    "    \n",
    "    @abstractmethod\n",
    "\n",
    "    def describe(self):\n",
    "        pass\n",
    "\n",
    "class Student(Person):\n",
    "    def __init__(self, name: str, yob: int, grade: int):\n",
    "        super().__init__(name, yob)\n",
    "        self.grade = grade\n",
    "\n",
    "    def describe(self):\n",
    "        print(self.name)\n",
    "        print(self.yob)\n",
    "        print(self.grade)\n",
    "        return super().describe()\n",
    "    \n",
    "student1 = Student(name = \"studentZ2023\", yob =2011 , grade =\"6\")\n",
    "student1.describe()\n"
   ]
  },
  {
   "cell_type": "code",
   "execution_count": 29,
   "metadata": {},
   "outputs": [
    {
     "name": "stdout",
     "output_type": "stream",
     "text": [
      " teacherZ2023 \n",
      "1991\n",
      " History\n"
     ]
    }
   ],
   "source": [
    "# Q6:\n",
    "from abc import ABC , abstractmethod\n",
    "class Person(ABC):\n",
    "    def __init__ (self, name:str, yob:int):\n",
    "        self.name = name\n",
    "        self.yob = yob\n",
    "    def get_yob(self):\n",
    "        return self._yob\n",
    "    \n",
    "    @abstractmethod\n",
    "\n",
    "    def describe(self):\n",
    "        pass\n",
    "\n",
    "class Teacher(Person):\n",
    "    def __init__(self, name: str, yob: int, subject: int):\n",
    "        super().__init__(name, yob)\n",
    "        self.subject = subject\n",
    "\n",
    "    def describe(self):\n",
    "        print(self.name)\n",
    "        print(self.yob)\n",
    "        print(self.subject)\n",
    "        return super().describe()\n",
    "    \n",
    "teacher1 = Teacher(name =\" teacherZ2023 \", yob =1991 , subject =\" History\")\n",
    "teacher1.describe()\n"
   ]
  },
  {
   "cell_type": "code",
   "execution_count": 30,
   "metadata": {},
   "outputs": [
    {
     "name": "stdout",
     "output_type": "stream",
     "text": [
      " doctorZ2023 \n",
      "1981\n",
      " Endocrinologists\n"
     ]
    }
   ],
   "source": [
    "# Q7:\n",
    "from abc import ABC , abstractmethod\n",
    "class Person(ABC):\n",
    "    def __init__ (self, name:str, yob:int):\n",
    "        self.name = name\n",
    "        self.yob = yob\n",
    "    def get_yob(self):\n",
    "        return self._yob\n",
    "    \n",
    "    @abstractmethod\n",
    "\n",
    "    def describe(self):\n",
    "        pass\n",
    "\n",
    "class Doctor(Person):\n",
    "    def __init__(self, name: str, yob: int, specialist: int):\n",
    "        super().__init__(name, yob)\n",
    "        self.specialist = specialist\n",
    "\n",
    "    def describe(self):\n",
    "        print(self.name)\n",
    "        print(self.yob)\n",
    "        print(self.specialist)\n",
    "        return super().describe()\n",
    "    \n",
    "doctor1 = Doctor(name =\" doctorZ2023 \", yob =1981 , specialist =\" Endocrinologists\")\n",
    "doctor1.describe()\n"
   ]
  },
  {
   "cell_type": "code",
   "execution_count": 37,
   "metadata": {},
   "outputs": [
    {
     "name": "stdout",
     "output_type": "stream",
     "text": [
      "2\n"
     ]
    }
   ],
   "source": [
    "# Q8:\n",
    "class Ward:\n",
    "    def __init__(self, name : str):\n",
    "        self.__name = name\n",
    "        self.__list_People = list()\n",
    "\n",
    "    def add_person(self, person: Person):\n",
    "        self.__list_People.append(person)\n",
    "    \n",
    "    def describe(self):\n",
    "        print(f\" Ward Name : { self.__name }\")\n",
    "        for p in self . __listPeople :\n",
    "            p.describe ()\n",
    "\n",
    "    def count_doctor(self):\n",
    "        count = sum(1 for person in self.__list_People if isinstance(person, Doctor))\n",
    "        return count\n",
    "\n",
    "\n",
    "student1 = Student(name=\"studentA\", yob=2010, grade=\"7\")\n",
    "teacher1 = Teacher(name=\"teacherA\", yob=1969, subject=\"Math\")\n",
    "teacher2 = Teacher(name=\"teacherB\", yob=1995, subject=\"History\")\n",
    "doctor1 = Doctor(name=\"doctorA\", yob=1945, specialist=\"Endocrinologists\")\n",
    "doctor2 = Doctor(name=\"doctorB\", yob=1975, specialist=\"Cardiologists\")\n",
    "\n",
    "ward1 = Ward(name=\"Ward1\")\n",
    "ward1.add_person(student1)\n",
    "ward1.add_person(teacher1)\n",
    "ward1.add_person(teacher2)\n",
    "ward1.add_person(doctor1)\n",
    "ward1.add_person(doctor2)\n",
    "\n",
    "print(ward1.count_doctor())\n",
    "\n",
    "\n",
    "\n",
    "\n"
   ]
  },
  {
   "cell_type": "code",
   "execution_count": 40,
   "metadata": {},
   "outputs": [
    {
     "name": "stdout",
     "output_type": "stream",
     "text": [
      "True\n"
     ]
    }
   ],
   "source": [
    "#Q9:\n",
    "class MyStack:\n",
    "    def __init__(self, capacity):\n",
    "        self.__capacity = capacity\n",
    "        self.__stack = []\n",
    "    \n",
    "    def is_full(self):\n",
    "        return len(self.__stack) == self.__capacity\n",
    "    \n",
    "    def push(self, value):\n",
    "        if len(self.__stack) < self.__capacity:\n",
    "            self.__stack.append(value)\n",
    "        return self.__stack\n",
    "\n",
    "stack1 = MyStack(capacity =5)\n",
    "stack1.push(1)\n",
    "stack1.push(2)\n",
    "print(stack1.is_full())"
   ]
  },
  {
   "cell_type": "code",
   "execution_count": 43,
   "metadata": {},
   "outputs": [
    {
     "name": "stdout",
     "output_type": "stream",
     "text": [
      "2\n"
     ]
    }
   ],
   "source": [
    "#Q10\n",
    "class MyStack:\n",
    "    def __init__(self, capacity):\n",
    "        self.__capacity = capacity\n",
    "        self.__stack = []\n",
    "    \n",
    "    def is_full(self):\n",
    "        return len(self.__stack) == self.__capacity\n",
    "    \n",
    "    def push(self, value):\n",
    "        if len(self.__stack) < self.__capacity:\n",
    "            self.__stack.append(value)\n",
    "        return self.__stack\n",
    "    \n",
    "    def top(self):\n",
    "        return self.__stack[-1]\n",
    "stack1 = MyStack(capacity =5)\n",
    "stack1.push(1)\n",
    "stack1.push(2)\n",
    "print(stack1.top())"
   ]
  },
  {
   "cell_type": "code",
   "execution_count": 42,
   "metadata": {},
   "outputs": [
    {
     "name": "stdout",
     "output_type": "stream",
     "text": [
      "False\n"
     ]
    }
   ],
   "source": [
    "#Q11\n",
    "class MyQueue:\n",
    "    def __init__(self, capacity):\n",
    "        self.__capacity = capacity\n",
    "        self.__queue = []\n",
    "    \n",
    "    def is_full(self):\n",
    "        return len(self.__queue) == self.__capacity\n",
    "    \n",
    "    def enqueue(self, value):\n",
    "        return self.__queue.append(value)\n",
    "\n",
    "queue1 = MyQueue(capacity =5)\n",
    "queue1.enqueue(1)\n",
    "queue1.enqueue(2)\n",
    "print(queue1.is_full())"
   ]
  },
  {
   "cell_type": "code",
   "execution_count": 45,
   "metadata": {},
   "outputs": [
    {
     "name": "stdout",
     "output_type": "stream",
     "text": [
      "1\n"
     ]
    }
   ],
   "source": [
    "#Q12\n",
    "class MyQueue:\n",
    "    def __init__(self, capacity):\n",
    "        self.__capacity = capacity\n",
    "        self.__queue = []\n",
    "    \n",
    "    def isEmpty(self):\n",
    "        return len(self.__queue) == 0\n",
    "\n",
    "    def is_full(self):\n",
    "        return len(self.__queue) == self.__capacity\n",
    "    \n",
    "    # def dequeue(self):\n",
    "    \n",
    "    def enqueue(self, value):\n",
    "        return self.__queue.append(value)\n",
    "    \n",
    "    def front(self):\n",
    "        return self.__queue[0]\n",
    "\n",
    "\n",
    "queue1 = MyQueue(capacity =5)\n",
    "queue1.enqueue(1)\n",
    "queue1.enqueue(2)\n",
    "print(queue1.front())"
   ]
  }
 ],
 "metadata": {
  "kernelspec": {
   "display_name": "Python 3",
   "language": "python",
   "name": "python3"
  },
  "language_info": {
   "codemirror_mode": {
    "name": "ipython",
    "version": 3
   },
   "file_extension": ".py",
   "mimetype": "text/x-python",
   "name": "python",
   "nbconvert_exporter": "python",
   "pygments_lexer": "ipython3",
   "version": "3.11.1"
  }
 },
 "nbformat": 4,
 "nbformat_minor": 2
}
