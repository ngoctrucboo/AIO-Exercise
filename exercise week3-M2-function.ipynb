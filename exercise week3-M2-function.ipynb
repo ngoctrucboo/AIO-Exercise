{
 "cells": [
  {
   "cell_type": "markdown",
   "metadata": {},
   "source": [
    "1&4. Binary classification - play tennis"
   ]
  },
  {
   "cell_type": "code",
   "execution_count": 1,
   "metadata": {},
   "outputs": [
    {
     "name": "stdout",
     "output_type": "stream",
     "text": [
      "[['Sunny' 'Hot' 'High' 'Weak' 'no']\n",
      " ['Sunny' 'Hot' 'High' 'Strong' 'no']\n",
      " ['Overcast' 'Hot' 'High' 'Weak' 'yes']\n",
      " ['Rain' 'Mild' 'High' 'Weak' 'yes']\n",
      " ['Rain' 'Cool' 'Normal' 'Weak' 'yes']\n",
      " ['Rain' 'Cool' 'Normal' 'Strong' 'no']\n",
      " ['Overcast' 'Cool' 'Normal' 'Strong' 'yes']\n",
      " ['Overcast' 'Mild' 'High' 'Weak' 'no']\n",
      " ['Sunny' 'Cool' 'Normal' 'Weak' 'yes']\n",
      " ['Rain' 'Mild' 'Normal' 'Weak' 'yes']]\n"
     ]
    }
   ],
   "source": [
    "import numpy as np\n",
    "\n",
    "def create_train_data():\n",
    "\n",
    "  data=[['Sunny','Hot', 'High', 'Weak', 'no'],\n",
    "        ['Sunny','Hot', 'High', 'Strong', 'no'],\n",
    "        ['Overcast','Hot', 'High', 'Weak', 'yes'],\n",
    "        ['Rain','Mild', 'High', 'Weak', 'yes'],\n",
    "        ['Rain','Cool', 'Normal', 'Weak', 'yes'],\n",
    "        ['Rain','Cool', 'Normal', 'Strong', 'no'],\n",
    "        ['Overcast','Cool', 'Normal', 'Strong', 'yes'],\n",
    "        ['Overcast','Mild', 'High', 'Weak', 'no'],\n",
    "        ['Sunny','Cool', 'Normal', 'Weak', 'yes'],\n",
    "        ['Rain','Mild', 'Normal', 'Weak', 'yes']]\n",
    "  return np.array(data)\n",
    "\n",
    "train_data = create_train_data()\n",
    "print(train_data)"
   ]
  },
  {
   "cell_type": "code",
   "execution_count": 5,
   "metadata": {},
   "outputs": [],
   "source": [
    "def compute_prior_propability(train_data):\n",
    "    y_unique = ['no', 'yes']\n",
    "    prior_probability = np.zeros(len(y_unique))\n",
    "\n",
    "    for i in range(len(y_unique)):\n",
    "        prior_probability[i] = len(np.where(train_data[:,4]))\n"
   ]
  },
  {
   "cell_type": "code",
   "execution_count": 7,
   "metadata": {},
   "outputs": [
    {
     "name": "stdout",
     "output_type": "stream",
     "text": [
      "P(“Play Tennis” = No) 0.4\n",
      "P(“Play Tennis” = Yes) 0.6\n"
     ]
    }
   ],
   "source": [
    "def compute_prior_probablity(train_data):\n",
    "  y_unique = ['no', 'yes']\n",
    "  prior_probability = np.zeros(len(y_unique))\n",
    "  for i in range(0,len(y_unique)):\n",
    "    prior_probability[i]=len(np.where(train_data[:,4] == y_unique[i])[0])/len(train_data)\n",
    "  return prior_probability\n",
    "\n",
    "prior_probablity = compute_prior_probablity(train_data)\n",
    "print(\"P(“Play Tennis” = No)\", prior_probablity[0])\n",
    "print(\"P(“Play Tennis” = Yes)\", prior_probablity[1])"
   ]
  },
  {
   "cell_type": "code",
   "execution_count": 8,
   "metadata": {},
   "outputs": [],
   "source": [
    "#this function is used to compute the conditional probabilities\n",
    "#input: train data\n",
    "#output: conditional probabilities and list of feature names\n",
    "def compute_conditional_probability(train_data):\n",
    "  y_unique = ['no', 'yes']\n",
    "  conditional_probability = []\n",
    "  list_x_name = []\n",
    "  for i in range(0,train_data.shape[1]-1):\n",
    "    x_unique = np.unique(train_data[:,i])\n",
    "    print(\"x_unique\", x_unique)\n",
    "\n",
    "    list_x_name.append(x_unique)\n",
    "\n",
    "    x_conditional_probability = np.zeros((len(y_unique),len(x_unique)))\n",
    "    for j in range(0,len(y_unique)):\n",
    "      for k in range(0,len(x_unique)):\n",
    "        x_conditional_probability[j,k]= len(np.where((train_data[:,i] == x_unique[k]) & (train_data[:,4] == y_unique[j]))[0])/len(np.where(train_data[:,4] == y_unique[j])[0])\n",
    "\n",
    "    conditional_probability.append(x_conditional_probability)\n",
    "  return conditional_probability, list_x_name"
   ]
  },
  {
   "cell_type": "code",
   "execution_count": 9,
   "metadata": {},
   "outputs": [
    {
     "name": "stdout",
     "output_type": "stream",
     "text": [
      "x_unique ['Overcast' 'Rain' 'Sunny']\n",
      "x_unique ['Cool' 'Hot' 'Mild']\n",
      "x_unique ['High' 'Normal']\n",
      "x_unique ['Strong' 'Weak']\n",
      "x1 =  ['Overcast' 'Rain' 'Sunny']\n",
      "x2 =  ['Cool' 'Hot' 'Mild']\n",
      "x3 =  ['High' 'Normal']\n",
      "x4 =  ['Strong' 'Weak']\n"
     ]
    }
   ],
   "source": [
    "\n",
    "#4.3.1\n",
    "train_data = create_train_data()\n",
    "_, list_x_name  = compute_conditional_probability(train_data)\n",
    "print(\"x1 = \",list_x_name[0])\n",
    "print(\"x2 = \",list_x_name[1])\n",
    "print(\"x3 = \",list_x_name[2])\n",
    "print(\"x4 = \",list_x_name[3])\n"
   ]
  },
  {
   "cell_type": "code",
   "execution_count": 10,
   "metadata": {},
   "outputs": [
    {
     "name": "stdout",
     "output_type": "stream",
     "text": [
      "x_unique ['Overcast' 'Rain' 'Sunny']\n",
      "x_unique ['Cool' 'Hot' 'Mild']\n",
      "x_unique ['High' 'Normal']\n",
      "x_unique ['Strong' 'Weak']\n"
     ]
    }
   ],
   "source": [
    "###########################\n",
    "# Train Naive Bayes Model\n",
    "###########################\n",
    "def train_naive_bayes(train_data):\n",
    "    # Step 1: Calculate Prior Probability\n",
    "    prior_probability = compute_prior_probablity(train_data)\n",
    "\n",
    "    # Step 2: Calculate Conditional Probability\n",
    "    conditional_probability, list_x_name  = compute_conditional_probability(train_data)\n",
    "\n",
    "    return prior_probability,conditional_probability, list_x_name\n",
    "\n",
    "data = create_train_data()\n",
    "prior_probability,conditional_probability, list_x_name = train_naive_bayes(data)"
   ]
  },
  {
   "cell_type": "code",
   "execution_count": 11,
   "metadata": {},
   "outputs": [],
   "source": [
    "#This function is used to return the index of the feature name\n",
    "def get_index_from_value(feature_name, list_features):\n",
    "  return np.where(list_features == feature_name)[0][0]"
   ]
  },
  {
   "cell_type": "code",
   "execution_count": 12,
   "metadata": {},
   "outputs": [
    {
     "name": "stdout",
     "output_type": "stream",
     "text": [
      "x_unique ['Overcast' 'Rain' 'Sunny']\n",
      "x_unique ['Cool' 'Hot' 'Mild']\n",
      "x_unique ['High' 'Normal']\n",
      "x_unique ['Strong' 'Weak']\n",
      "0 1 2\n"
     ]
    }
   ],
   "source": [
    "#Question: 4.4.1\n",
    "train_data = create_train_data()\n",
    "_, list_x_name  = compute_conditional_probability(train_data)\n",
    "outlook = list_x_name[0]\n",
    "i1 = get_index_from_value(\"Overcast\", outlook)\n",
    "i2 = get_index_from_value(\"Rain\", outlook)\n",
    "i3 = get_index_from_value(\"Sunny\", outlook)\n",
    "\n",
    "print(i1, i2, i3)"
   ]
  },
  {
   "cell_type": "code",
   "execution_count": 13,
   "metadata": {},
   "outputs": [
    {
     "name": "stdout",
     "output_type": "stream",
     "text": [
      "x_unique ['Overcast' 'Rain' 'Sunny']\n",
      "x_unique ['Cool' 'Hot' 'Mild']\n",
      "x_unique ['High' 'Normal']\n",
      "x_unique ['Strong' 'Weak']\n",
      "P('Outlook'='Sunny'|Play Tennis'='Yes') =  0.17\n"
     ]
    }
   ],
   "source": [
    "#Question: 4.4.2\n",
    "train_data = create_train_data()\n",
    "conditional_probability, list_x_name  = compute_conditional_probability(train_data)\n",
    "# Compute P(\"Outlook\"=\"Sunny\"|Play Tennis\"=\"Yes\")\n",
    "x1=get_index_from_value(\"Sunny\",list_x_name[0])\n",
    "print(\"P('Outlook'='Sunny'|Play Tennis'='Yes') = \", np.round(conditional_probability[0][1, x1],2))"
   ]
  },
  {
   "cell_type": "code",
   "execution_count": 14,
   "metadata": {},
   "outputs": [
    {
     "name": "stdout",
     "output_type": "stream",
     "text": [
      "x_unique ['Overcast' 'Rain' 'Sunny']\n",
      "x_unique ['Cool' 'Hot' 'Mild']\n",
      "x_unique ['High' 'Normal']\n",
      "x_unique ['Strong' 'Weak']\n",
      "P('Outlook'='Sunny'|Play Tennis'='No') =  0.5\n"
     ]
    }
   ],
   "source": [
    "#Question: 4.4.3\n",
    "train_data = create_train_data()\n",
    "conditional_probability, list_x_name  = compute_conditional_probability(train_data)\n",
    "# Compute P(\"Outlook\"=\"Sunny\"|Play Tennis\"=\"No\")\n",
    "x1=get_index_from_value(\"Sunny\",list_x_name[0])\n",
    "print(\"P('Outlook'='Sunny'|Play Tennis'='No') = \", np.round(conditional_probability[0][0, x1],2))"
   ]
  },
  {
   "cell_type": "code",
   "execution_count": 15,
   "metadata": {},
   "outputs": [],
   "source": [
    "####################\n",
    "# Prediction\n",
    "####################\n",
    "def prediction_play_tennis(X, list_x_name, prior_probability, conditional_probability):\n",
    "\n",
    "    x1=get_index_from_value(X[0],list_x_name[0])\n",
    "    x2=get_index_from_value(X[1],list_x_name[1])\n",
    "    x3=get_index_from_value(X[2],list_x_name[2])\n",
    "    x4=get_index_from_value(X[3],list_x_name[3])\n",
    "\n",
    "    p0=prior_probability[0] \\\n",
    "    *conditional_probability[0][0,x1] \\\n",
    "    *conditional_probability[1][0,x2] \\\n",
    "    *conditional_probability[2][0,x3] \\\n",
    "    *conditional_probability[3][0,x4]\n",
    "\n",
    "    p1=prior_probability[1]\\\n",
    "    *conditional_probability[0][1,x1]\\\n",
    "    *conditional_probability[1][1,x2]\\\n",
    "    *conditional_probability[2][1,x3]\\\n",
    "    *conditional_probability[3][1,x4]\n",
    "\n",
    "    # print(p0, p1)\n",
    "\n",
    "    if p0>p1:\n",
    "        y_pred=0\n",
    "    else:\n",
    "        y_pred=1\n",
    "\n",
    "    return y_pred\n",
    "\n",
    "# prediction_play_tennis()"
   ]
  },
  {
   "cell_type": "code",
   "execution_count": 16,
   "metadata": {},
   "outputs": [
    {
     "name": "stdout",
     "output_type": "stream",
     "text": [
      "x_unique ['Overcast' 'Rain' 'Sunny']\n",
      "x_unique ['Cool' 'Hot' 'Mild']\n",
      "x_unique ['High' 'Normal']\n",
      "x_unique ['Strong' 'Weak']\n",
      "Ad should not go!\n"
     ]
    }
   ],
   "source": [
    "#4.6.1\n",
    "X = ['Sunny','Cool', 'High', 'Strong']\n",
    "data = create_train_data()\n",
    "prior_probability,conditional_probability, list_x_name = train_naive_bayes(data)\n",
    "pred =  prediction_play_tennis(X, list_x_name, prior_probability, conditional_probability)\n",
    "\n",
    "if(pred):\n",
    "  print(\"Ad should go!\")\n",
    "else:\n",
    "  print(\"Ad should not go!\")"
   ]
  }
 ],
 "metadata": {
  "kernelspec": {
   "display_name": "Python 3",
   "language": "python",
   "name": "python3"
  },
  "language_info": {
   "codemirror_mode": {
    "name": "ipython",
    "version": 3
   },
   "file_extension": ".py",
   "mimetype": "text/x-python",
   "name": "python",
   "nbconvert_exporter": "python",
   "pygments_lexer": "ipython3",
   "version": "3.11.1"
  }
 },
 "nbformat": 4,
 "nbformat_minor": 2
}
