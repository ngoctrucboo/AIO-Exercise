{
 "cells": [
  {
   "cell_type": "code",
   "execution_count": 1,
   "metadata": {},
   "outputs": [
    {
     "name": "stdout",
     "output_type": "stream",
     "text": [
      "0.31\n"
     ]
    }
   ],
   "source": [
    "# Q1: Classification model by F1-score\n",
    "import math\n",
    "def calc_f1_score(tp, fp, fn):\n",
    "    precision = tp / (tp + fp)\n",
    "    recall = tp / (tp + fn)\n",
    "    f1_score = 2 * (precision * recall) / (precision + recall)\n",
    "    return f1_score\n",
    "assert round(calc_f1_score(tp=2, fp=3, fn=5), 2) == 0.33 #Kiểm tra điều kiện\n",
    "print(round(calc_f1_score(tp=2, fp=4, fn=5),2))"
   ]
  },
  {
   "cell_type": "code",
   "execution_count": 6,
   "metadata": {},
   "outputs": [
    {
     "name": "stdout",
     "output_type": "stream",
     "text": [
      "True\n",
      "False\n"
     ]
    }
   ],
   "source": [
    "# Q2: Function is_number\n",
    "import math\n",
    "def is_number(n):\n",
    "    try:\n",
    "        float(n)\n",
    "        return True\n",
    "    except ValueError:\n",
    "        return False\n",
    "\n",
    "assert is_number(3) == 1.0\n",
    "assert is_number('2a')==0\n",
    "print(is_number(1))\n",
    "print(is_number('n'))"
   ]
  },
  {
   "cell_type": "code",
   "execution_count": 7,
   "metadata": {},
   "outputs": [
    {
     "name": "stdout",
     "output_type": "stream",
     "text": [
      "0.0\n"
     ]
    }
   ],
   "source": [
    "# Q3: Write RELU function\n",
    "x = -2.0\n",
    "if x<=0:\n",
    "    y = 0.0\n",
    "else:\n",
    "    y=x\n",
    "print(y)"
   ]
  },
  {
   "cell_type": "code",
   "execution_count": 11,
   "metadata": {},
   "outputs": [
    {
     "name": "stdout",
     "output_type": "stream",
     "text": [
      "0.88\n"
     ]
    }
   ],
   "source": [
    "# Q4: Write sigmoid function\n",
    "import math\n",
    "def calc_sig(x):\n",
    "    result = 1/(1+math.exp(-x))\n",
    "    return result\n",
    "assert round(calc_sig(3),2)==0.95\n",
    "print(round(calc_sig(2),2))"
   ]
  },
  {
   "cell_type": "code",
   "execution_count": 13,
   "metadata": {},
   "outputs": [
    {
     "name": "stdout",
     "output_type": "stream",
     "text": [
      "-0.01\n"
     ]
    }
   ],
   "source": [
    "\n",
    "# Q5: Write Elu function\n",
    "import math\n",
    "def calc_elu(x):\n",
    "    al_pha = 0.01\n",
    "    if x<=0:\n",
    "        y = al_pha*(math.exp(x)-1)\n",
    "    else:\n",
    "        y = x\n",
    "    return y\n",
    "    \n",
    "assert round(calc_elu(1))==1\n",
    "print(round(calc_elu(-1),2))"
   ]
  },
  {
   "cell_type": "code",
   "execution_count": 21,
   "metadata": {},
   "outputs": [
    {
     "name": "stdout",
     "output_type": "stream",
     "text": [
      "0.95\n"
     ]
    }
   ],
   "source": [
    "#Q6: Write 3 activation function (sigmoid, relu, elu)\n",
    "import math\n",
    "def calc_activation_func(x, act_name):\n",
    "    if act_name == \"sigmoid\":\n",
    "        return 1/(1+math.exp(-x))\n",
    "    if act_name == \"relu\":\n",
    "        if x<=0:\n",
    "            return 0.0\n",
    "        else:\n",
    "            return x\n",
    "    if act_name == \"elu\":\n",
    "        if x<=0:\n",
    "            return 0.1*(math.exp(x)-1)\n",
    "        else:\n",
    "            return x\n",
    "\n",
    "assert calc_activation_func(1,'relu') == 1\n",
    "print(round(calc_activation_func(3, 'sigmoid'), 2))"
   ]
  },
  {
   "cell_type": "code",
   "execution_count": 25,
   "metadata": {},
   "outputs": [
    {
     "name": "stdout",
     "output_type": "stream",
     "text": [
      "7\n"
     ]
    }
   ],
   "source": [
    "# Q7: Calculate absolute\n",
    "import math\n",
    "def calc_ae(y, y_hat):\n",
    "    return abs(y-y_hat)\n",
    "\n",
    "y = 1\n",
    "y_hat = 6\n",
    "assert calc_ae(y, y_hat)==5\n",
    "y=2\n",
    "y_hat=9\n",
    "print(calc_ae(y, y_hat))"
   ]
  },
  {
   "cell_type": "code",
   "execution_count": 27,
   "metadata": {},
   "outputs": [
    {
     "name": "stdout",
     "output_type": "stream",
     "text": [
      "1\n"
     ]
    }
   ],
   "source": [
    "# Q8: Calculate square error\n",
    "def calc_se(y, y_hat):\n",
    "    return (y-y_hat)**2\n",
    "y = 4\n",
    "y_hat = 2\n",
    "assert calc_se(y, y_hat) == 4\n",
    "print(calc_se(2,1))"
   ]
  },
  {
   "cell_type": "code",
   "execution_count": 29,
   "metadata": {},
   "outputs": [
    {
     "name": "stdout",
     "output_type": "stream",
     "text": [
      "-1.0\n"
     ]
    }
   ],
   "source": [
    "# Q9: calculate cos\n",
    "import math\n",
    "def approx_cos(x,n):\n",
    "    result = 0\n",
    "    for i in range(n):\n",
    "        coef = (-1)**i\n",
    "        num = x**(2*i)\n",
    "        denom = math.factorial(2*i)\n",
    "        result+=coef*num/denom\n",
    "    return result\n",
    "\n",
    "assert round(approx_cos(x=1, n=10), 2) == 0.54\n",
    "print(round(approx_cos(x=3.14, n=10),2))\n"
   ]
  },
  {
   "cell_type": "code",
   "execution_count": 33,
   "metadata": {},
   "outputs": [
    {
     "name": "stdout",
     "output_type": "stream",
     "text": [
      "0.0016\n"
     ]
    }
   ],
   "source": [
    "# Q9: calculate sin\n",
    "import math\n",
    "def approx_sin(x,n):\n",
    "    result = 0\n",
    "    for i in range(n):\n",
    "        coef = (-1)**i\n",
    "        num = x**(2*i+1)\n",
    "        denom = math.factorial((2*i+1))\n",
    "        result+=coef*num/denom\n",
    "    return result\n",
    "\n",
    "assert round(approx_sin(x=1, n=10), 4) == 0.8415\n",
    "print(round(approx_sin(x=3.14, n=10),4))\n"
   ]
  },
  {
   "cell_type": "code",
   "execution_count": null,
   "metadata": {},
   "outputs": [],
   "source": []
  },
  {
   "cell_type": "code",
   "execution_count": null,
   "metadata": {},
   "outputs": [],
   "source": [
    "# Q11: Calculate sinh(x)"
   ]
  },
  {
   "cell_type": "code",
   "execution_count": 34,
   "metadata": {},
   "outputs": [
    {
     "name": "stdout",
     "output_type": "stream",
     "text": [
      "11.53\n"
     ]
    }
   ],
   "source": [
    "# Q9: calculate sin\n",
    "import math\n",
    "def approx_sinh(x,n):\n",
    "    result = 0\n",
    "    for i in range(n):\n",
    "        num = x**(2*i+1)\n",
    "        denom = math.factorial((2*i+1))\n",
    "        result+=num/denom\n",
    "    return result\n",
    "\n",
    "assert round(approx_sinh(x=1, n=10), 2) == 1.18\n",
    "print(round(approx_sinh(x=3.14, n=10),2))\n"
   ]
  },
  {
   "cell_type": "code",
   "execution_count": 35,
   "metadata": {},
   "outputs": [
    {
     "name": "stdout",
     "output_type": "stream",
     "text": [
      "11.57\n"
     ]
    }
   ],
   "source": [
    "# Q12: Calculate cosh(x)\n",
    "# Q9: calculate cos\n",
    "import math\n",
    "def approx_cos(x,n):\n",
    "    result = 0\n",
    "    for i in range(n):\n",
    "        num = x**(2*i)\n",
    "        denom = math.factorial(2*i)\n",
    "        result+=num/denom\n",
    "    return result\n",
    "\n",
    "assert round(approx_cos(x=1, n=10), 2) == 1.54\n",
    "print(round(approx_cos(x=3.14, n=10),2))\n"
   ]
  },
  {
   "cell_type": "code",
   "execution_count": 40,
   "metadata": {},
   "outputs": [
    {
     "name": "stdout",
     "output_type": "stream",
     "text": [
      "0\n"
     ]
    }
   ],
   "source": [
    "# Mean difference\n",
    "def md_nre_single_sample(y, y_hat, n, p):\n",
    "    y_root = y**(1/n)\n",
    "    y_hat_root = y_hat**(1/n)\n",
    "    difference = y_root-y_hat_root\n",
    "    loss = difference**p\n",
    "    return loss\n",
    "\n",
    "print(round(md_nre_single_sample(y=1, y_hat=3, n=9, p=3)))\n",
    "\n"
   ]
  },
  {
   "cell_type": "code",
   "execution_count": null,
   "metadata": {},
   "outputs": [],
   "source": []
  }
 ],
 "metadata": {
  "kernelspec": {
   "display_name": "Python 3",
   "language": "python",
   "name": "python3"
  },
  "language_info": {
   "codemirror_mode": {
    "name": "ipython",
    "version": 3
   },
   "file_extension": ".py",
   "mimetype": "text/x-python",
   "name": "python",
   "nbconvert_exporter": "python",
   "pygments_lexer": "ipython3",
   "version": "3.11.1"
  }
 },
 "nbformat": 4,
 "nbformat_minor": 2
}
