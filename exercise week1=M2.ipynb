{
 "cells": [
  {
   "cell_type": "code",
   "execution_count": 2,
   "metadata": {},
   "outputs": [
    {
     "name": "stdout",
     "output_type": "stream",
     "text": [
      "[0 1 2 3 4 5 6 7 8 9]\n"
     ]
    }
   ],
   "source": [
    "#Q1: Câu hỏi 1: Câu nào sau đây là đúng để tạo mảng 1 chiều từ 0 đến 9\n",
    "import numpy as np\n",
    "arr = np.arange(0, 10, 1)\n",
    "print(arr)"
   ]
  },
  {
   "cell_type": "code",
   "execution_count": 9,
   "metadata": {},
   "outputs": [
    {
     "name": "stdout",
     "output_type": "stream",
     "text": [
      "[[ True  True  True]\n",
      " [ True  True  True]\n",
      " [ True  True  True]]\n"
     ]
    }
   ],
   "source": [
    "# Q2: Cách tạo một mảng boolean 3x3 với tất cả giá trị là True\n",
    "arr = np.ones((3 ,3), dtype = bool)\n",
    "print(arr)"
   ]
  },
  {
   "cell_type": "code",
   "execution_count": 10,
   "metadata": {},
   "outputs": [
    {
     "name": "stdout",
     "output_type": "stream",
     "text": [
      "[1 3 5 7 9]\n"
     ]
    }
   ],
   "source": [
    "#Q3: \n",
    "import numpy as np\n",
    "arr = np.arange(0, 10)\n",
    "print(arr[arr%2 == 1])"
   ]
  },
  {
   "cell_type": "code",
   "execution_count": 11,
   "metadata": {},
   "outputs": [
    {
     "name": "stdout",
     "output_type": "stream",
     "text": [
      "[ 0 -1  2 -1  4 -1  6 -1  8 -1]\n"
     ]
    }
   ],
   "source": [
    "# Q4\n",
    "import numpy as np\n",
    "arr = np.arange(0 ,10)\n",
    "arr[arr%2 ==1] = -1\n",
    "print(arr)"
   ]
  },
  {
   "cell_type": "code",
   "execution_count": 12,
   "metadata": {},
   "outputs": [
    {
     "name": "stdout",
     "output_type": "stream",
     "text": [
      "[[0 1 2 3 4]\n",
      " [5 6 7 8 9]]\n"
     ]
    }
   ],
   "source": [
    "# Q5\n",
    "import numpy as np\n",
    "arr = np.arange(10)\n",
    "arr_2d = arr.reshape (2 , -1)\n",
    "print (arr_2d )"
   ]
  },
  {
   "cell_type": "code",
   "execution_count": 13,
   "metadata": {},
   "outputs": [
    {
     "name": "stdout",
     "output_type": "stream",
     "text": [
      " Result : \n",
      " [[0 1 2 3 4]\n",
      " [5 6 7 8 9]\n",
      " [1 1 1 1 1]\n",
      " [1 1 1 1 1]]\n"
     ]
    }
   ],
   "source": [
    "#Q6\n",
    "import numpy as np\n",
    "arr1 = np.arange(10).reshape(2, -1)\n",
    "arr2 = np.repeat (1 ,10).reshape(2 , -1)\n",
    "c = np.concatenate([ arr1 , arr2 ] , axis =0)\n",
    "print (\" Result : \\n\", c )"
   ]
  },
  {
   "cell_type": "code",
   "execution_count": 15,
   "metadata": {},
   "outputs": [
    {
     "name": "stdout",
     "output_type": "stream",
     "text": [
      "C =  [[0 1 2 3 4 1 1 1 1 1]\n",
      " [5 6 7 8 9 1 1 1 1 1]]\n"
     ]
    }
   ],
   "source": [
    "# Q7\n",
    "import numpy as np\n",
    "arr1 = np.arange(10).reshape(2 , -1)\n",
    "arr2 = np.repeat(1 ,10).reshape(2 , -1)\n",
    "c = np.concatenate([arr1, arr2], axis =1)\n",
    "print (\"C = \", c )"
   ]
  },
  {
   "cell_type": "code",
   "execution_count": 1,
   "metadata": {},
   "outputs": [
    {
     "name": "stdout",
     "output_type": "stream",
     "text": [
      "[1 1 1 2 2 2 3 3 3]\n",
      "[1 2 3 1 2 3 1 2 3]\n"
     ]
    }
   ],
   "source": [
    "# Q8\n",
    "import numpy as np\n",
    "arr = np.array([1 ,2 ,3])\n",
    "print(np.repeat( arr ,3))\n",
    "print(np.tile(arr,3))"
   ]
  },
  {
   "cell_type": "code",
   "execution_count": 2,
   "metadata": {},
   "outputs": [
    {
     "name": "stdout",
     "output_type": "stream",
     "text": [
      "result [ 6  9 10]\n"
     ]
    }
   ],
   "source": [
    "# Q9: \n",
    "a = np.array([2,6,1,9,10,3,27])\n",
    "index = np.where((a>=5)&(a<=10))\n",
    "print(\"result\", a[index])\n"
   ]
  },
  {
   "cell_type": "code",
   "execution_count": 4,
   "metadata": {},
   "outputs": [
    {
     "name": "stdout",
     "output_type": "stream",
     "text": [
      "[6. 7. 9. 8. 9. 7. 5.]\n"
     ]
    }
   ],
   "source": [
    "# Q10\n",
    "def maxx(x,y):\n",
    "    if x >= y:\n",
    "        return x\n",
    "    else:\n",
    "        return y\n",
    "a = np.array([5,7,9,8,6,4,5])\n",
    "b = np.array([6,3,4,8,9,7,1])\n",
    "\n",
    "pair_max = np.vectorize(maxx, otypes=[float])\n",
    "print(pair_max(a,b))"
   ]
  },
  {
   "cell_type": "code",
   "execution_count": 5,
   "metadata": {},
   "outputs": [
    {
     "name": "stdout",
     "output_type": "stream",
     "text": [
      "Result [6 7 9 8 9 7 5]\n"
     ]
    }
   ],
   "source": [
    "# Q11\n",
    "a = np.array ([5 ,7 ,9 ,8 ,6 ,4 ,5])\n",
    "b = np.array ([6 ,3 ,4 ,8 ,9 ,7 ,1])\n",
    "\n",
    "print (\"Result\", np.where (a <b, b, a) )"
   ]
  },
  {
   "cell_type": "code",
   "execution_count": 12,
   "metadata": {},
   "outputs": [
    {
     "name": "stdout",
     "output_type": "stream",
     "text": [
      "Downloading...\n",
      "From: https://drive.google.com/uc?id=1i9dqan21DjQoG5Q_VEvm0LrVwAlXD0vB\n",
      "To: /Users/nguyenthingoctruc/Documents/AI/AIO2024 - Homework/AIO-Exercise/dog.jpeg\n",
      "100%|███████████████████████████████████████| 33.7k/33.7k [00:00<00:00, 606kB/s]\n"
     ]
    }
   ],
   "source": [
    "# Download image\n",
    "!gdown 1i9dqan21DjQoG5Q_VEvm0LrVwAlXD0vB\n",
    "import cv2\n",
    "import matplotlib.image as mpimg\n"
   ]
  },
  {
   "cell_type": "code",
   "execution_count": 14,
   "metadata": {},
   "outputs": [],
   "source": [
    "img = mpimg.imread('dog.jpeg')\n",
    "# gray_img_01 = \n",
    "# gray_img_01 [0 , 0]"
   ]
  },
  {
   "cell_type": "code",
   "execution_count": 16,
   "metadata": {},
   "outputs": [],
   "source": [
    "R = img[:, :, 0]\n",
    "G = img[:, :, 1]\n",
    "B = img[:, :, 2]"
   ]
  },
  {
   "cell_type": "code",
   "execution_count": 19,
   "metadata": {},
   "outputs": [
    {
     "name": "stdout",
     "output_type": "stream",
     "text": [
      "102.5\n"
     ]
    }
   ],
   "source": [
    "gray_img_01 = (np.maximum(np.maximum(R, G), B) + np.minimum(np.minimum(R, G), B)) / 2\n",
    "print(gray_img_01[0, 0])"
   ]
  },
  {
   "cell_type": "code",
   "execution_count": 21,
   "metadata": {},
   "outputs": [
    {
     "name": "stdout",
     "output_type": "stream",
     "text": [
      "22.333333333333332\n"
     ]
    }
   ],
   "source": [
    "#Q13\n",
    "gray_img_02 = (R + G + B) / 3\n",
    "print(gray_img_02[0, 0])\n"
   ]
  },
  {
   "cell_type": "code",
   "execution_count": 22,
   "metadata": {},
   "outputs": [
    {
     "name": "stdout",
     "output_type": "stream",
     "text": [
      "126.22999999999999\n"
     ]
    }
   ],
   "source": [
    "# Q14\n",
    "gray_img_03 = 0.21 * R + 0.72 * G + 0.07 * B\n",
    "\n",
    "print(gray_img_03[0, 0])"
   ]
  },
  {
   "cell_type": "code",
   "execution_count": 23,
   "metadata": {},
   "outputs": [
    {
     "name": "stdout",
     "output_type": "stream",
     "text": [
      "Downloading...\n",
      "From: https://drive.google.com/uc?id=1iA0WmVfW88HyJvTBSQDI5vesf-pgKabq\n",
      "To: /Users/nguyenthingoctruc/Documents/AI/AIO2024 - Homework/AIO-Exercise/advertising.csv\n",
      "100%|██████████████████████████████████████| 4.06k/4.06k [00:00<00:00, 34.2kB/s]\n"
     ]
    }
   ],
   "source": [
    "# Q15\n",
    "# Download data\n",
    "! gdown 1iA0WmVfW88HyJvTBSQDI5vesf-pgKabq"
   ]
  },
  {
   "cell_type": "code",
   "execution_count": 26,
   "metadata": {},
   "outputs": [],
   "source": [
    "import pandas as pd\n",
    "df = pd.read_csv ('advertising.csv')\n",
    "data = df.to_numpy()"
   ]
  },
  {
   "cell_type": "code",
   "execution_count": 29,
   "metadata": {},
   "outputs": [
    {
     "name": "stdout",
     "output_type": "stream",
     "text": [
      "Max value: 27.0, Index: 175\n"
     ]
    }
   ],
   "source": [
    "\n",
    "max_value = df['Sales'].max()\n",
    "max_index = df['Sales'].idxmax()\n",
    "\n",
    "print(f\"Max value: {max_value}, Index: {max_index}\")"
   ]
  },
  {
   "cell_type": "code",
   "execution_count": 30,
   "metadata": {},
   "outputs": [
    {
     "name": "stdout",
     "output_type": "stream",
     "text": [
      "Mean value: 147.0425\n"
     ]
    }
   ],
   "source": [
    "# Q16\n",
    "mean_value = df['TV'].mean()\n",
    "\n",
    "print(f\"Mean value: {mean_value}\")"
   ]
  },
  {
   "cell_type": "code",
   "execution_count": 35,
   "metadata": {},
   "outputs": [
    {
     "name": "stdout",
     "output_type": "stream",
     "text": [
      "40\n"
     ]
    }
   ],
   "source": [
    "#Q17\n",
    "Sales_higher_or_equal_20 = df[df['Sales'] >= 20].shape[0]\n",
    "print(Sales_higher_or_equal_20)"
   ]
  },
  {
   "cell_type": "code",
   "execution_count": 38,
   "metadata": {},
   "outputs": [
    {
     "name": "stdout",
     "output_type": "stream",
     "text": [
      "26.22293577981651\n"
     ]
    }
   ],
   "source": [
    "#Q18 giá trị trung bình của cột Radio thoả mãn điều kiện giá trị tương ứng trên cột Sales lớn hơn hoặc bằng 15:\n",
    "Avg_Sales = df[df['Sales'] >= 15]['Radio'].mean()\n",
    "print(Avg_Sales)"
   ]
  },
  {
   "cell_type": "code",
   "execution_count": 40,
   "metadata": {},
   "outputs": [
    {
     "name": "stdout",
     "output_type": "stream",
     "text": [
      "1405.1\n"
     ]
    }
   ],
   "source": [
    "# Q19: Tính tổng các hàng của cột Sales với điều kiện giá trị Newspaper lớn hơn\n",
    "# giá trị trung bình của cột Newspaper:\n",
    "Sum_Sales = df[df['Newspaper'] >= (df['Newspaper'].mean())]['Sales'].sum()\n",
    "print(Sum_Sales)"
   ]
  },
  {
   "cell_type": "code",
   "execution_count": 45,
   "metadata": {},
   "outputs": [
    {
     "name": "stdout",
     "output_type": "stream",
     "text": [
      "['Bad', 'Bad', 'Good']\n"
     ]
    }
   ],
   "source": [
    "# Q20:\n",
    "# Gọi giá trị trung bình của cột Sales là A. Tạo ra mảng mới scores chứa các giá trị Good, Average và Bad sao cho: nếu giá trị hiện tại > A => giá trị trong mảng mới là Good, < A thì sẽ là Bad và = A sẽ là Average. Sau đó in ra kết quả scores[7:10] ChatGPT\n",
    "A = df['Sales'].mean()\n",
    "scores = df['Sales'].apply(lambda x: 'Good' if x > A else ('Bad' if x < A else 'Average')).to_list()\n",
    "B=A\n",
    "# In ra kết quả scores[7:10]\n",
    "print(scores[7:10])\n",
    "\n"
   ]
  },
  {
   "cell_type": "code",
   "execution_count": 47,
   "metadata": {},
   "outputs": [
    {
     "name": "stdout",
     "output_type": "stream",
     "text": [
      "['Bad', 'Bad', 'Good']\n"
     ]
    }
   ],
   "source": [
    "# Q21\n",
    "# Tìm giá trị gần nhất với giá trị trung bình\n",
    "A = df['Sales'].iloc[(df['Sales'] - B).abs().argmin()]\n",
    "# Tạo mảng mới \"scores\"\n",
    "scores = df['Sales'].apply(lambda x: 'Good' if x > A else ('Bad' if x < A else 'Average')).to_list()\n",
    "\n",
    "# In ra kết quả scores[7:10]\n",
    "print(scores[7:10])\n"
   ]
  },
  {
   "cell_type": "code",
   "execution_count": null,
   "metadata": {},
   "outputs": [],
   "source": []
  },
  {
   "cell_type": "code",
   "execution_count": null,
   "metadata": {},
   "outputs": [],
   "source": []
  }
 ],
 "metadata": {
  "kernelspec": {
   "display_name": "Python 3",
   "language": "python",
   "name": "python3"
  },
  "language_info": {
   "codemirror_mode": {
    "name": "ipython",
    "version": 3
   },
   "file_extension": ".py",
   "mimetype": "text/x-python",
   "name": "python",
   "nbconvert_exporter": "python",
   "pygments_lexer": "ipython3",
   "version": "3.11.1"
  }
 },
 "nbformat": 4,
 "nbformat_minor": 2
}
