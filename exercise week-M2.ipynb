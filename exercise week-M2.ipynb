{
 "cells": [
  {
   "cell_type": "code",
   "execution_count": 12,
   "metadata": {},
   "outputs": [
    {
     "name": "stdout",
     "output_type": "stream",
     "text": [
      "23.280893453645632\n"
     ]
    }
   ],
   "source": [
    "# Q1\n",
    "import numpy as np\n",
    "def compute_vector_length(data):\n",
    "    len_of_vector = 0\n",
    "    for x in data: \n",
    "        len_of_vector += x*x\n",
    "    return np.sqrt(sum(len_of_vector))\n",
    "\n",
    "vector = np.array([ -2 , 4 , 9 , 21])\n",
    "result = compute_vector_length([vector])\n",
    "print(result)"
   ]
  },
  {
   "cell_type": "code",
   "execution_count": 13,
   "metadata": {},
   "outputs": [
    {
     "name": "stdout",
     "output_type": "stream",
     "text": [
      "4\n"
     ]
    }
   ],
   "source": [
    "#Q2\n",
    "import numpy as np\n",
    "def compute_dot_product(a,b):\n",
    "    result = 0\n",
    "    for i in range(0, len(a)):\n",
    "        result += a[i]*b[i]\n",
    "    return result\n",
    "v1 = np.array ([0 , 1 , -1 , 2])\n",
    "v2 = np.array ([2 , 5 , 1 , 0])\n",
    "result = compute_dot_product(v1 , v2)\n",
    "print(round(result ,2) )"
   ]
  },
  {
   "cell_type": "code",
   "execution_count": 18,
   "metadata": {},
   "outputs": [
    {
     "name": "stdout",
     "output_type": "stream",
     "text": [
      "result \n",
      " [ 5 11]\n"
     ]
    }
   ],
   "source": [
    "# Q3\n",
    "x = np.array([[1 , 2] , [3, 4]])\n",
    "k = np.array([1 , 2])\n",
    "print (\"result \\n\", x.dot(k))"
   ]
  },
  {
   "cell_type": "code",
   "execution_count": 16,
   "metadata": {},
   "outputs": [
    {
     "name": "stdout",
     "output_type": "stream",
     "text": [
      "result \n",
      " [ 3 -5]\n"
     ]
    }
   ],
   "source": [
    "# Q4\n",
    "x = np.array([[ -1 , 2], [3 , -4]])\n",
    "k = np.array([1 , 2])\n",
    "print (\"result \\n\", x@k )"
   ]
  },
  {
   "cell_type": "code",
   "execution_count": 21,
   "metadata": {},
   "outputs": [
    {
     "name": "stdout",
     "output_type": "stream",
     "text": [
      "[3 1]\n"
     ]
    }
   ],
   "source": [
    "# Q5\n",
    "\n",
    "def matrix_multi_vector(a, b):\n",
    "    result = np.dot(a,b)\n",
    "    return result\n",
    "m = np.array ([[ -1 , 1 , 1] , [0 , -4 , 9]])\n",
    "v = np.array ([0 , 2 , 1])\n",
    "result = matrix_multi_vector(m, v)\n",
    "print (result)\n"
   ]
  },
  {
   "cell_type": "code",
   "execution_count": 23,
   "metadata": {},
   "outputs": [
    {
     "name": "stdout",
     "output_type": "stream",
     "text": [
      "[[  6  -1]\n",
      " [-16 -10]]\n"
     ]
    }
   ],
   "source": [
    "# Q6\n",
    "def matrix_multi_matrix(a, b):\n",
    "    result = np.dot(a,b)\n",
    "    return result\n",
    "m1 = np. array ([[0 , 1 , 2] , [2 , -3 , 1]])\n",
    "m2 = np. array ([[1 , -3] ,[6 , 1] , [0 , -1]])\n",
    "result = matrix_multi_matrix(m1 , m2)\n",
    "print(result)"
   ]
  },
  {
   "cell_type": "code",
   "execution_count": 24,
   "metadata": {},
   "outputs": [
    {
     "name": "stdout",
     "output_type": "stream",
     "text": [
      "[[1. 1. 1.]\n",
      " [2. 2. 2.]\n",
      " [3. 3. 3.]]\n"
     ]
    }
   ],
   "source": [
    "#Q7\n",
    "m1 = np.eye(3)\n",
    "m2 = np. array([[1 , 1 , 1] ,[2 , 2 , 2] , [3 , 3 , 3]])\n",
    "result = m1@m2\n",
    "print ( result )"
   ]
  },
  {
   "cell_type": "code",
   "execution_count": 25,
   "metadata": {},
   "outputs": [
    {
     "name": "stdout",
     "output_type": "stream",
     "text": [
      "[5. 5. 5. 5.]\n"
     ]
    }
   ],
   "source": [
    "# Q8\n",
    "m1 = np.eye (2)\n",
    "m1 = np. reshape (m1 ,( -1 ,4) ) [0]\n",
    "m2 = np. array ([[1 , 1 , 1 , 1] ,[2 , 2 , 2 , 2] , [3 , 3 , 3 , 3] , [4 , 4 , 4 , 4]])\n",
    "result = m1@m2\n",
    "print ( result )"
   ]
  },
  {
   "cell_type": "code",
   "execution_count": 27,
   "metadata": {},
   "outputs": [
    {
     "name": "stdout",
     "output_type": "stream",
     "text": [
      "[29 29 29 29]\n"
     ]
    }
   ],
   "source": [
    "\n",
    "# Q9\n",
    "m1 = np. array ([[1 , 2] , [3 , 4]])\n",
    "m1 = np. reshape (m1 ,( -1 ,4) , \"F\") [0]\n",
    "m2 = np. array ([[1 , 1 , 1 , 1] ,[2 , 2 , 2 , 2] , [3 , 3 , 3 , 3] , [4 , 4 , 4 , 4]])\n",
    "result = m1@m2\n",
    "print ( result )"
   ]
  },
  {
   "cell_type": "code",
   "execution_count": 28,
   "metadata": {},
   "outputs": [
    {
     "name": "stdout",
     "output_type": "stream",
     "text": [
      "[[0.1  0.15]\n",
      " [0.2  0.05]]\n"
     ]
    }
   ],
   "source": [
    "# Q10\n",
    "def inverse_matrix(matrix):\n",
    "    return np.linalg.inv(matrix)\n",
    "\n",
    "m1 = np. array ([[ -2 , 6] , [8 , -4]])\n",
    "result = inverse_matrix(m1)\n",
    "print(result)"
   ]
  },
  {
   "cell_type": "code",
   "execution_count": 31,
   "metadata": {},
   "outputs": [
    {
     "name": "stdout",
     "output_type": "stream",
     "text": [
      "[[ 0.89442719 -0.70710678]\n",
      " [ 0.4472136   0.70710678]]\n"
     ]
    }
   ],
   "source": [
    "# Q11\n",
    "def compute_eigenvalues_eigenvectors(matrix):\n",
    "    return np.linalg.eig(matrix)\n",
    "matrix = np.array([[0.9, 0.2],[0.1, 0.8]])\n",
    "eigenvalues, eigenvectors = compute_eigenvalues_eigenvectors(matrix)\n",
    "print(eigenvectors)"
   ]
  },
  {
   "cell_type": "code",
   "execution_count": 32,
   "metadata": {},
   "outputs": [
    {
     "name": "stdout",
     "output_type": "stream",
     "text": [
      "0.577\n"
     ]
    }
   ],
   "source": [
    "# Q12\n",
    "def compute_cosine(x, y):\n",
    "    dot_product = np.dot(x, y)\n",
    "    norm_x = np.linalg.norm(x)\n",
    "    norm_y = np.linalg.norm(y)\n",
    "    return dot_product / (norm_x * norm_y)\n",
    "x = np. array ([1 , 2 , 3 , 4])\n",
    "y = np. array ([1 , 0 , 3 , 0])\n",
    "result = compute_cosine(x,y)\n",
    "print(round(result, 3))"
   ]
  }
 ],
 "metadata": {
  "kernelspec": {
   "display_name": "Python 3",
   "language": "python",
   "name": "python3"
  },
  "language_info": {
   "codemirror_mode": {
    "name": "ipython",
    "version": 3
   },
   "file_extension": ".py",
   "mimetype": "text/x-python",
   "name": "python",
   "nbconvert_exporter": "python",
   "pygments_lexer": "ipython3",
   "version": "3.11.1"
  }
 },
 "nbformat": 4,
 "nbformat_minor": 2
}
